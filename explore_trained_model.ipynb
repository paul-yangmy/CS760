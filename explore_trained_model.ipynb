{
 "cells": [
  {
   "cell_type": "code",
   "execution_count": 1,
   "metadata": {
    "collapsed": true
   },
   "outputs": [],
   "source": [
    "import numpy as np\n",
    "from sklearn.datasets import fetch_20newsgroups\n",
    "import torch\n",
    "\n",
    "import matplotlib.pyplot as plt\n",
    "%matplotlib inline\n",
    "\n",
    "# https://github.com/DmitryUlyanov/Multicore-TSNE\n",
    "from MulticoreTSNE import MulticoreTSNE as TSNE\n",
    "import pandas as pd"
   ]
  },
  {
   "cell_type": "code",
   "execution_count": 2,
   "metadata": {
    "collapsed": true
   },
   "outputs": [],
   "source": [
    "def softmax(x):\n",
    "    # x has shape [batch_size, n_classes]\n",
    "    e = np.exp(x)\n",
    "    n = np.sum(e, 1, keepdims=True)\n",
    "    return e/n"
   ]
  },
  {
   "cell_type": "markdown",
   "metadata": {},
   "source": [
    "# Load data"
   ]
  },
  {
   "cell_type": "code",
   "execution_count": 3,
   "metadata": {
    "collapsed": true
   },
   "outputs": [],
   "source": [
    "rvData = pd.read_csv(\"reviews.csv\")\n",
    "rvData['cleanReviews'] = rvData['reviews'].str.replace(\"[^a-zA-Z#]\", \" \") # remove special characters\n",
    "docs = rvData['reviews']\n",
    "\n",
    "# store each document with an initial id\n",
    "docs = [(i, doc) for i, doc in enumerate(docs)]\n",
    "\n",
    "# \"integer -> word\" decoder \n",
    "decoder = np.load('decoder.npy',allow_pickle=True)[()]\n",
    "\n",
    "# for restoring document ids, \"id used while training -> initial id\"\n",
    "doc_decoder = np.load('doc_decoder.npy',allow_pickle=True)[()]"
   ]
  },
  {
   "cell_type": "code",
   "execution_count": 73,
   "metadata": {
    "collapsed": true
   },
   "outputs": [],
   "source": [
    "# original document categories\n",
    "# targets = dataset['target']\n",
    "# target_names = dataset['target_names']\n",
    "# targets = np.array([targets[doc_decoder[i]] for i in range(len(doc_decoder))])"
   ]
  },
  {
   "cell_type": "markdown",
   "metadata": {},
   "source": [
    "# Load the trained model"
   ]
  },
  {
   "cell_type": "code",
   "execution_count": 4,
   "metadata": {
    "collapsed": true
   },
   "outputs": [],
   "source": [
    "state = torch.load('model_state.pytorch', map_location=lambda storage, loc: storage)\n",
    "n_topics = 25\n",
    "\n",
    "doc_weights = state['doc_weights.weight'].cpu().clone().numpy()\n",
    "topic_vectors = state['topics.topic_vectors'].cpu().clone().numpy()\n",
    "resulted_word_vectors = state['neg.embedding.weight'].cpu().clone().numpy()\n",
    "\n",
    "# distribution over the topics for each document\n",
    "topic_dist = softmax(doc_weights)\n",
    "\n",
    "# vector representation of the documents\n",
    "doc_vecs = np.matmul(topic_dist, topic_vectors)"
   ]
  },
  {
   "cell_type": "markdown",
   "metadata": {},
   "source": [
    "# Show topics"
   ]
  },
  {
   "cell_type": "code",
   "execution_count": 5,
   "metadata": {},
   "outputs": [
    {
     "name": "stdout",
     "output_type": "stream",
     "text": [
      "topic 1 : play get online account item family start character hacker share\n",
      "topic 2 : family share play item account hacker way server cheater get\n",
      "topic 3 : play get family share hacker way online account player item\n",
      "topic 4 : online play make delete way get character system like thing\n",
      "topic 5 : way get play family account share character control people option\n",
      "topic 6 : delete get character player cheater year way item cheat play\n",
      "topic 7 : play player way item easily get have cheater character try\n",
      "topic 8 : play character get item online way hacker cheater inventory want\n",
      "topic 9 : play family get share hacker mod account way online system\n",
      "topic 10 : play get item online way player account hacker family share\n",
      "topic 11 : get play cheater cheat online player way family hacker share\n",
      "topic 12 : item play online hacker family get inventory share disable character\n",
      "topic 13 : play get online hacker mod option item account easily player\n",
      "topic 14 : get play item inventory cheater online force hacker player delete\n",
      "topic 15 : account get share delete family play item die inventory save\n",
      "topic 16 : play item online way force get character hacker inventory general\n",
      "topic 17 : play get online family people share way cheater item thing\n",
      "topic 18 : play account family share item get way online hacker option\n",
      "topic 19 : family share way get play like disable thing CANT item\n",
      "topic 20 : play get invade online cause hacker family way account share\n",
      "topic 21 : get play hacker family invade item share character force account\n",
      "topic 22 : get play item player family way inventory account hacker share\n",
      "topic 23 : Souls Dark series good control improve like change way original\n",
      "topic 24 : get family play share online hacker item disable player account\n",
      "topic 25 : get play family share good way make improve system thing\n"
     ]
    }
   ],
   "source": [
    "similarity = np.matmul(topic_vectors, resulted_word_vectors.T)\n",
    "most_similar = similarity.argsort(axis=1)[:, -10:]\n",
    "\n",
    "for j in range(n_topics):\n",
    "    topic_words = ' '.join([decoder[i] for i in reversed(most_similar[j])])\n",
    "    print('topic', j + 1, ':', topic_words)"
   ]
  },
  {
   "cell_type": "markdown",
   "metadata": {},
   "source": [
    "# Show learned document embeddings"
   ]
  },
  {
   "cell_type": "code",
   "execution_count": 76,
   "metadata": {
    "collapsed": true
   },
   "outputs": [
    {
     "ename": "TypeError",
     "evalue": "'module' object is not callable",
     "output_type": "error",
     "traceback": [
      "\u001B[1;31m---------------------------------------------------------------------------\u001B[0m",
      "\u001B[1;31mTypeError\u001B[0m                                 Traceback (most recent call last)",
      "\u001B[1;32m<ipython-input-76-320da5c345b4>\u001B[0m in \u001B[0;36m<module>\u001B[1;34m\u001B[0m\n\u001B[0;32m      1\u001B[0m \u001B[0mdata\u001B[0m \u001B[1;33m=\u001B[0m \u001B[0mdoc_vecs\u001B[0m\u001B[1;33m.\u001B[0m\u001B[0mastype\u001B[0m\u001B[1;33m(\u001B[0m\u001B[1;34m'float64'\u001B[0m\u001B[1;33m)\u001B[0m\u001B[1;33m\u001B[0m\u001B[0m\n\u001B[1;32m----> 2\u001B[1;33m \u001B[0mtsne\u001B[0m \u001B[1;33m=\u001B[0m \u001B[0mTSNE\u001B[0m\u001B[1;33m(\u001B[0m\u001B[0mn_jobs\u001B[0m\u001B[1;33m=\u001B[0m\u001B[1;36m4\u001B[0m\u001B[1;33m)\u001B[0m\u001B[1;33m\u001B[0m\u001B[0m\n\u001B[0m\u001B[0;32m      3\u001B[0m \u001B[0mX\u001B[0m \u001B[1;33m=\u001B[0m \u001B[0mtsne\u001B[0m\u001B[1;33m.\u001B[0m\u001B[0mfit_transform\u001B[0m\u001B[1;33m(\u001B[0m\u001B[0mdata\u001B[0m\u001B[1;33m)\u001B[0m\u001B[1;33m\u001B[0m\u001B[0m\n\u001B[0;32m      4\u001B[0m \u001B[1;33m\u001B[0m\u001B[0m\n",
      "\u001B[1;31mTypeError\u001B[0m: 'module' object is not callable"
     ]
    }
   ],
   "source": [
    "data = doc_vecs.astype('float64')\n",
    "tsne = TSNE(n_jobs=4)\n",
    "X = tsne.fit_transform(data)"
   ]
  },
  {
   "cell_type": "code",
   "execution_count": 78,
   "metadata": {
    "collapsed": true
   },
   "outputs": [],
   "source": [
    "def plot(X):\n",
    "    # X has shape [n_documents, 2]\n",
    "    \n",
    "    plt.figure(figsize=(16, 9), dpi=120);\n",
    "    cmap = plt.cm.tab20\n",
    "    number_of_targets = 20\n",
    "    \n",
    "    for i in range(number_of_targets):\n",
    "        \n",
    "        label = target_names[i]\n",
    "        size = 15.0\n",
    "        linewidths = 0.5\n",
    "        edgecolors = 'k'\n",
    "        color = cmap(i)\n",
    "        \n",
    "        if 'comp' in label:\n",
    "            marker = 'x'\n",
    "        elif 'sport' in label:\n",
    "            marker = 's'\n",
    "            edgecolors = 'b'\n",
    "        elif 'politics' in label:\n",
    "            marker = 'o'\n",
    "            edgecolors = 'g'\n",
    "        elif 'religion' in label:\n",
    "            marker = 'P'\n",
    "            size = 17.0\n",
    "        elif 'sci' in label:\n",
    "            marker = 'o'\n",
    "            size = 14.0\n",
    "            edgecolors = 'k'\n",
    "            linewidths = 1.0\n",
    "        elif 'atheism' in label:\n",
    "            marker = 'P'\n",
    "            size = 18.0\n",
    "            edgecolors = 'r'\n",
    "            linewidths = 0.5\n",
    "        else:\n",
    "            marker = 'v'\n",
    "            edgecolors = 'm'\n",
    "        \n",
    "        plt.scatter(\n",
    "            X[targets == i, 0], \n",
    "            X[targets == i, 1], \n",
    "            s=size, c=color, marker=marker,\n",
    "            linewidths=linewidths, edgecolors=edgecolors,\n",
    "            label=label\n",
    "        );\n",
    "    \n",
    "    leg = plt.legend()\n",
    "    leg.get_frame().set_alpha(0.3)"
   ]
  },
  {
   "cell_type": "code",
   "execution_count": 79,
   "metadata": {},
   "outputs": [
    {
     "ename": "NameError",
     "evalue": "name 'X' is not defined",
     "output_type": "error",
     "traceback": [
      "\u001B[1;31m---------------------------------------------------------------------------\u001B[0m",
      "\u001B[1;31mNameError\u001B[0m                                 Traceback (most recent call last)",
      "\u001B[1;32m<ipython-input-79-f557b62a359f>\u001B[0m in \u001B[0;36m<module>\u001B[1;34m\u001B[0m\n\u001B[1;32m----> 1\u001B[1;33m \u001B[0mplot\u001B[0m\u001B[1;33m(\u001B[0m\u001B[0mX\u001B[0m\u001B[1;33m)\u001B[0m  \u001B[1;31m# learned document vectors\u001B[0m\u001B[1;33m\u001B[0m\u001B[0m\n\u001B[0m\u001B[0;32m      2\u001B[0m \u001B[1;33m\u001B[0m\u001B[0m\n\u001B[0;32m      3\u001B[0m \u001B[1;31m# different colors and markers represent\u001B[0m\u001B[1;33m\u001B[0m\u001B[1;33m\u001B[0m\u001B[0m\n\u001B[0;32m      4\u001B[0m \u001B[1;31m# ground truth labels of each document\u001B[0m\u001B[1;33m\u001B[0m\u001B[1;33m\u001B[0m\u001B[0m\n\u001B[0;32m      5\u001B[0m \u001B[1;33m\u001B[0m\u001B[0m\n",
      "\u001B[1;31mNameError\u001B[0m: name 'X' is not defined"
     ]
    }
   ],
   "source": [
    "plot(X)  # learned document vectors\n",
    "\n",
    "# different colors and markers represent \n",
    "# ground truth labels of each document\n",
    "\n",
    "# open this image in new tab to see it better"
   ]
  },
  {
   "cell_type": "markdown",
   "metadata": {},
   "source": [
    "# Show initial document weights (vanilla lda)"
   ]
  },
  {
   "cell_type": "code",
   "execution_count": 13,
   "metadata": {
    "collapsed": true
   },
   "outputs": [],
   "source": [
    "doc_weights_init = np.load('doc_weights_init.npy')"
   ]
  },
  {
   "cell_type": "code",
   "execution_count": 81,
   "metadata": {
    "collapsed": true
   },
   "outputs": [
    {
     "ename": "TypeError",
     "evalue": "'module' object is not callable",
     "output_type": "error",
     "traceback": [
      "\u001B[1;31m---------------------------------------------------------------------------\u001B[0m",
      "\u001B[1;31mTypeError\u001B[0m                                 Traceback (most recent call last)",
      "\u001B[1;32m<ipython-input-81-dcf7eab56025>\u001B[0m in \u001B[0;36m<module>\u001B[1;34m\u001B[0m\n\u001B[1;32m----> 1\u001B[1;33m \u001B[0mtsne\u001B[0m \u001B[1;33m=\u001B[0m \u001B[0mTSNE\u001B[0m\u001B[1;33m(\u001B[0m\u001B[0mperplexity\u001B[0m\u001B[1;33m=\u001B[0m\u001B[1;36m200\u001B[0m\u001B[1;33m,\u001B[0m \u001B[0mn_jobs\u001B[0m\u001B[1;33m=\u001B[0m\u001B[1;36m4\u001B[0m\u001B[1;33m)\u001B[0m\u001B[1;33m\u001B[0m\u001B[0m\n\u001B[0m\u001B[0;32m      2\u001B[0m \u001B[0mY\u001B[0m \u001B[1;33m=\u001B[0m \u001B[0mtsne\u001B[0m\u001B[1;33m.\u001B[0m\u001B[0mfit_transform\u001B[0m\u001B[1;33m(\u001B[0m\u001B[0mdoc_weights_init\u001B[0m\u001B[1;33m.\u001B[0m\u001B[0mastype\u001B[0m\u001B[1;33m(\u001B[0m\u001B[1;34m'float64'\u001B[0m\u001B[1;33m)\u001B[0m\u001B[1;33m)\u001B[0m\u001B[1;33m\u001B[0m\u001B[0m\n\u001B[0;32m      3\u001B[0m \u001B[1;33m\u001B[0m\u001B[0m\n",
      "\u001B[1;31mTypeError\u001B[0m: 'module' object is not callable"
     ]
    }
   ],
   "source": [
    "tsne = TSNE(perplexity=200, n_jobs=4)\n",
    "Y = tsne.fit_transform(doc_weights_init.astype('float64'))"
   ]
  },
  {
   "cell_type": "code",
   "execution_count": 82,
   "metadata": {},
   "outputs": [
    {
     "ename": "NameError",
     "evalue": "name 'Y' is not defined",
     "output_type": "error",
     "traceback": [
      "\u001B[1;31m---------------------------------------------------------------------------\u001B[0m",
      "\u001B[1;31mNameError\u001B[0m                                 Traceback (most recent call last)",
      "\u001B[1;32m<ipython-input-82-10d7f63baf21>\u001B[0m in \u001B[0;36m<module>\u001B[1;34m\u001B[0m\n\u001B[0;32m      3\u001B[0m \u001B[1;31m# of each document\u001B[0m\u001B[1;33m\u001B[0m\u001B[1;33m\u001B[0m\u001B[0m\n\u001B[0;32m      4\u001B[0m \u001B[1;33m\u001B[0m\u001B[0m\n\u001B[1;32m----> 5\u001B[1;33m \u001B[0mplot\u001B[0m\u001B[1;33m(\u001B[0m\u001B[0mY\u001B[0m\u001B[1;33m)\u001B[0m  \u001B[1;31m# distribution over the topics for each document (output of LDA)\u001B[0m\u001B[1;33m\u001B[0m\u001B[0m\n\u001B[0m\u001B[0;32m      6\u001B[0m \u001B[1;33m\u001B[0m\u001B[0m\n\u001B[0;32m      7\u001B[0m \u001B[1;31m# different colors and markers represent\u001B[0m\u001B[1;33m\u001B[0m\u001B[1;33m\u001B[0m\u001B[0m\n",
      "\u001B[1;31mNameError\u001B[0m: name 'Y' is not defined"
     ]
    }
   ],
   "source": [
    "# to initialize topic assignments for lda2vec algorithm \n",
    "# I run normal LDA and used output distributions over topics \n",
    "# of each document\n",
    "\n",
    "plot(Y)  # distribution over the topics for each document (output of LDA)\n",
    "\n",
    "# different colors and markers represent \n",
    "# ground truth labels of each document\n",
    "\n",
    "# open this image in new tab to see it better"
   ]
  },
  {
   "cell_type": "markdown",
   "metadata": {},
   "source": [
    "# Explore learned topic distributions"
   ]
  },
  {
   "cell_type": "code",
   "execution_count": null,
   "metadata": {
    "collapsed": true
   },
   "outputs": [],
   "source": [
    "tsne = TSNE(perplexity=200, n_jobs=4)\n",
    "Z = tsne.fit_transform(topic_dist.astype('float64'))"
   ]
  },
  {
   "cell_type": "code",
   "execution_count": null,
   "metadata": {},
   "outputs": [],
   "source": [
    "plot(Z)  # learned distribution over the topics for each document\n",
    "\n",
    "# these are topic assignments as on the plot above \n",
    "# but these ones are after the training of lda2vec\n",
    "\n",
    "# different colors and markers represent \n",
    "# ground truth labels of each document\n",
    "\n",
    "# open this image in new tab to see it better"
   ]
  },
  {
   "cell_type": "code",
   "execution_count": 6,
   "metadata": {},
   "outputs": [
    {
     "data": {
      "text/plain": "<Figure size 432x288 with 1 Axes>",
      "image/png": "[encoded data removed]"
     },
     "metadata": {
      "needs_background": "light"
     },
     "output_type": "display_data"
    }
   ],
   "source": [
    "# distribution of nonzero probabilities\n",
    "dist = topic_dist.reshape(-1)\n",
    "plt.hist(dist[dist > 0.01], bins=40);"
   ]
  },
  {
   "cell_type": "code",
   "execution_count": 7,
   "metadata": {},
   "outputs": [
    {
     "data": {
      "text/plain": "<Figure size 432x288 with 1 Axes>",
      "image/png": "[encoded data removed]"
     },
     "metadata": {
      "needs_background": "light"
     },
     "output_type": "display_data"
    }
   ],
   "source": [
    "# distribution of probabilities for some random topic\n",
    "plt.hist(topic_dist[:, 10], bins=40);"
   ]
  },
  {
   "cell_type": "code",
   "execution_count": 8,
   "metadata": {},
   "outputs": [
    {
     "data": {
      "text/plain": "<Figure size 432x288 with 1 Axes>",
      "image/png": "[encoded data removed]"
     },
     "metadata": {
      "needs_background": "light"
     },
     "output_type": "display_data"
    }
   ],
   "source": [
    "# topic assignments for two random topics\n",
    "plt.scatter(topic_dist[:, 10], topic_dist[:, 20]);"
   ]
  },
  {
   "cell_type": "code",
   "execution_count": 10,
   "metadata": {},
   "outputs": [
    {
     "data": {
      "text/plain": "<Figure size 432x288 with 2 Axes>",
      "image/png": "[encoded data removed]"
     },
     "metadata": {
      "needs_background": "light"
     },
     "output_type": "display_data"
    }
   ],
   "source": [
    "# correlation of topic assignments\n",
    "corr = np.corrcoef(topic_dist.transpose(1, 0))\n",
    "plt.imshow(corr);\n",
    "plt.colorbar();"
   ]
  },
  {
   "cell_type": "markdown",
   "metadata": {},
   "source": [
    "# Show a document and its topics"
   ]
  },
  {
   "cell_type": "code",
   "execution_count": 9,
   "metadata": {
    "scrolled": false
   },
   "outputs": [
    {
     "name": "stdout",
     "output_type": "stream",
     "text": [
      "DOCUMENT:\n",
      "As long as legit players keep getting banned from the game and hackers go out unpunished, my review will stay negative.\n",
      "Just wanted to have some fun playing with my friend because i kinda suck at this types of games untill some random chinese hacker summons me to his world and starts giving me items without even needing my acceptance. Just brute forcing players to accept this. So i ask.\n",
      "Why am i getting punished for this? Why do i need to create another character and start over? After all the pain in the ass i had to just progress in the game? No, no and no. I won´t create another character, it is the DEV´s job to prevent this issues and not punish new players for their incompetence of having a decent anti-cheat. \n",
      "\n",
      "DISTRIBUTION OVER TOPICS:\n",
      "1:0.022  2:0.020  3:0.025  4:0.028  5:0.026  6:0.030  \n",
      "7:0.032  8:0.047  9:0.033  10:0.024  11:0.041  12:0.026  \n",
      "13:0.072  14:0.036  15:0.023  16:0.022  17:0.024  18:0.060  \n",
      "19:0.079  20:0.062  21:0.098  22:0.092  23:0.030  24:0.020  \n",
      "25:0.029  \n",
      "\n",
      "TOP TOPICS:\n",
      "topic 21 : get play hacker family invade item share character force account\n",
      "topic 22 : get play item player family way inventory account hacker share\n",
      "topic 19 : family share way get play like disable thing CANT item\n"
     ]
    }
   ],
   "source": [
    "i = 100 # document id\n",
    "\n",
    "print('DOCUMENT:')\n",
    "print([doc for j, doc in docs if j == doc_decoder[i]][0], '\\n')\n",
    "\n",
    "print('DISTRIBUTION OVER TOPICS:')\n",
    "s = ''\n",
    "for j, p in enumerate(topic_dist[i], 1):\n",
    "    s += '{0}:{1:.3f}  '.format(j, p)\n",
    "    if j%6 == 0:\n",
    "        s += '\\n'\n",
    "print(s)\n",
    "\n",
    "print('\\nTOP TOPICS:')\n",
    "for j in reversed(topic_dist[i].argsort()[-3:]):\n",
    "    topic_words = ' '.join([decoder[i] for i in reversed(most_similar[j])])\n",
    "    print('topic', j + 1, ':', topic_words)"
   ]
  }
 ],
 "metadata": {
  "kernelspec": {
   "display_name": "Python 3",
   "language": "python",
   "name": "python3"
  },
  "language_info": {
   "codemirror_mode": {
    "name": "ipython",
    "version": 3
   },
   "file_extension": ".py",
   "mimetype": "text/x-python",
   "name": "python",
   "nbconvert_exporter": "python",
   "pygments_lexer": "ipython3",
   "version": "3.6.2"
  }
 },
 "nbformat": 4,
 "nbformat_minor": 2
}